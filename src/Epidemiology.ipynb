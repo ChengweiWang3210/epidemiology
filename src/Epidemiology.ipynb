{
 "cells": [
  {
   "cell_type": "markdown",
   "metadata": {},
   "source": [
    "# Epidemiology"
   ]
  },
  {
   "cell_type": "markdown",
   "metadata": {},
   "source": [
    "Chengwei Wang"
   ]
  },
  {
   "cell_type": "markdown",
   "metadata": {},
   "source": [
    "2019/11/24"
   ]
  },
  {
   "cell_type": "markdown",
   "metadata": {},
   "source": [
    "# Import  selenium"
   ]
  },
  {
   "cell_type": "code",
   "execution_count": 1,
   "metadata": {},
   "outputs": [],
   "source": [
    "import re\n",
    "import random"
   ]
  },
  {
   "cell_type": "code",
   "execution_count": 2,
   "metadata": {},
   "outputs": [],
   "source": [
    "from selenium import webdriver\n",
    "import time\n",
    "import pandas as pd\n",
    "import numpy as np"
   ]
  },
  {
   "cell_type": "markdown",
   "metadata": {},
   "source": [
    "## Start a browser and Visiting the website"
   ]
  },
  {
   "cell_type": "code",
   "execution_count": 3,
   "metadata": {
    "scrolled": true
   },
   "outputs": [],
   "source": [
    "driver = webdriver.Chrome()"
   ]
  },
  {
   "cell_type": "code",
   "execution_count": 4,
   "metadata": {},
   "outputs": [],
   "source": [
    "url = 'https://www.ncbi.nlm.nih.gov/pubmed'"
   ]
  },
  {
   "cell_type": "code",
   "execution_count": 5,
   "metadata": {},
   "outputs": [],
   "source": [
    "driver.get(url)"
   ]
  },
  {
   "cell_type": "markdown",
   "metadata": {},
   "source": [
    "# Search"
   ]
  },
  {
   "cell_type": "code",
   "execution_count": 6,
   "metadata": {},
   "outputs": [],
   "source": [
    "pubmed_search = driver.find_element_by_xpath('//*[@id=\"term\"]')\n",
    "pubmed_search.location_once_scrolled_into_view\n",
    "pubmed_search.clear()"
   ]
  },
  {
   "cell_type": "code",
   "execution_count": 7,
   "metadata": {},
   "outputs": [],
   "source": [
    "pubmed_search.send_keys('\"epidemiology\"[Mesh]')"
   ]
  },
  {
   "cell_type": "code",
   "execution_count": 8,
   "metadata": {},
   "outputs": [],
   "source": [
    "search_button = driver.find_element_by_xpath('//*[@id=\"search\"]')\n",
    "search_button.click()"
   ]
  },
  {
   "cell_type": "markdown",
   "metadata": {},
   "source": [
    "# Next Page Automation"
   ]
  },
  {
   "cell_type": "code",
   "execution_count": 10,
   "metadata": {},
   "outputs": [],
   "source": [
    "tp=int(driver.find_element_by_xpath('//*[@id=\"maincontent\"]/div/div[3]/div[2]/h3').text[7:])"
   ]
  },
  {
   "cell_type": "code",
   "execution_count": 11,
   "metadata": {},
   "outputs": [
    {
     "data": {
      "text/plain": [
       "1333"
      ]
     },
     "execution_count": 11,
     "metadata": {},
     "output_type": "execute_result"
    }
   ],
   "source": [
    "tp"
   ]
  },
  {
   "cell_type": "code",
   "execution_count": 24,
   "metadata": {},
   "outputs": [],
   "source": [
    "def collect_data():\n",
    "    article_list = driver.find_element_by_xpath('//*[@id=\"maincontent\"]/div/div[5]').\\\n",
    "                    find_elements_by_xpath('//*[@class=\"rprt\"]')\n",
    "    time.sleep(1)\n",
    "    for article in article_list:\n",
    "\n",
    "        try: \n",
    "            pub_jrnl.append(article.find_element_by_class_name('jrnl').get_attribute(\"title\"))\n",
    "        except:\n",
    "            pub_jrnl.append(None)\n",
    "\n",
    "        try: \n",
    "            pub_dates.append(article.find_element_by_class_name('details').text)\n",
    "        except:\n",
    "            pub_dates.append(None)\n",
    "\n",
    "        try: \n",
    "            titles.append(article.find_element_by_class_name('title').text)\n",
    "        except:\n",
    "            titles.append(None)\n",
    "\n",
    "        try: \n",
    "            authors.append(article.find_element_by_class_name('desc').text)\n",
    "        except:\n",
    "            authors.append(None)\n",
    "\n",
    "        try:\n",
    "            links.append(article.find_element_by_class_name('title').\\\n",
    "                         find_element_by_xpath('.//a').\\\n",
    "                         get_attribute(\"href\"))\n",
    "        except:\n",
    "            links.append(None)\n",
    "            \n",
    "        try:\n",
    "            pg.append(article.find_element_by_xpath('//*[@id=\"pageno\"]').get_attribute('value'))\n",
    "        except:\n",
    "            pg.append(None)\n",
    "\n"
   ]
  },
  {
   "cell_type": "code",
   "execution_count": 12,
   "metadata": {},
   "outputs": [],
   "source": [
    "i=0\n",
    "pub_jrnl = []\n",
    "pub_dates = []\n",
    "titles = []\n",
    "authors = []\n",
    "links = []"
   ]
  },
  {
   "cell_type": "code",
   "execution_count": 27,
   "metadata": {},
   "outputs": [],
   "source": [
    "while i<=tp: \n",
    "    collect_data()\n",
    "    \n",
    "    if i<tp:\n",
    "        driver.find_element_by_xpath('//*[@id=\"maincontent\"]/div/div[7]/div').\\\n",
    "                                    find_element_by_xpath('//*[@title=\"Next page of results\"]').click()\n",
    "        i = i+1\n",
    "    else: \n",
    "        i = i+1    \n",
    "    time.sleep(random.randint(1,5))"
   ]
  },
  {
   "cell_type": "code",
   "execution_count": 38,
   "metadata": {},
   "outputs": [
    {
     "data": {
      "text/plain": [
       "1311"
      ]
     },
     "execution_count": 38,
     "metadata": {},
     "output_type": "execute_result"
    }
   ],
   "source": [
    "i"
   ]
  },
  {
   "cell_type": "code",
   "execution_count": 43,
   "metadata": {},
   "outputs": [
    {
     "data": {
      "text/plain": [
       "26332"
      ]
     },
     "execution_count": 43,
     "metadata": {},
     "output_type": "execute_result"
    }
   ],
   "source": [
    "len(titles)"
   ]
  },
  {
   "cell_type": "code",
   "execution_count": 45,
   "metadata": {},
   "outputs": [
    {
     "name": "stdout",
     "output_type": "stream",
     "text": [
      "25967\n"
     ]
    }
   ],
   "source": [
    "print(len(set(titles)))"
   ]
  },
  {
   "cell_type": "code",
   "execution_count": 62,
   "metadata": {
    "collapsed": true
   },
   "outputs": [
    {
     "name": "stdout",
     "output_type": "stream",
     "text": [
      "26193\n"
     ]
    },
    {
     "data": {
      "text/plain": [
       "['https://www.ncbi.nlm.nih.gov/pubmed/21028441',\n",
       " None,\n",
       " 'https://www.ncbi.nlm.nih.gov/pubmed/21028406',\n",
       " None,\n",
       " 'https://www.ncbi.nlm.nih.gov/pubmed/21027480',\n",
       " None,\n",
       " 'https://www.ncbi.nlm.nih.gov/pubmed/21027463',\n",
       " None,\n",
       " 'https://www.ncbi.nlm.nih.gov/pubmed/21024728',\n",
       " None,\n",
       " 'https://www.ncbi.nlm.nih.gov/pubmed/21021330',\n",
       " None,\n",
       " 'https://www.ncbi.nlm.nih.gov/pubmed/21017137',\n",
       " None,\n",
       " 'https://www.ncbi.nlm.nih.gov/pubmed/21010492',\n",
       " None,\n",
       " 'https://www.ncbi.nlm.nih.gov/pubmed/20984495',\n",
       " None,\n",
       " 'https://www.ncbi.nlm.nih.gov/pubmed/20293207',\n",
       " None,\n",
       " 'https://www.ncbi.nlm.nih.gov/pubmed/20281408',\n",
       " None,\n",
       " 'https://www.ncbi.nlm.nih.gov/pubmed/20281393',\n",
       " None]"
      ]
     },
     "execution_count": 62,
     "metadata": {},
     "output_type": "execute_result"
    }
   ],
   "source": [
    "print(len(set(links)));links[42620:]"
   ]
  },
  {
   "cell_type": "code",
   "execution_count": 71,
   "metadata": {},
   "outputs": [],
   "source": [
    "links_c =[]\n",
    "for link in links:\n",
    "    if link != None:\n",
    "        links_c.append(link)"
   ]
  },
  {
   "cell_type": "code",
   "execution_count": 73,
   "metadata": {},
   "outputs": [
    {
     "data": {
      "text/plain": [
       "26332"
      ]
     },
     "execution_count": 73,
     "metadata": {},
     "output_type": "execute_result"
    }
   ],
   "source": [
    "len(links_c)"
   ]
  },
  {
   "cell_type": "code",
   "execution_count": 52,
   "metadata": {},
   "outputs": [
    {
     "name": "stdout",
     "output_type": "stream",
     "text": [
      "['Mikrobiyoloji bulteni', 'The Pan African medical journal', 'Zhonghua liu xing bing xue za zhi = Zhonghua liuxingbingxue zazhi', 'Zhonghua liu xing bing xue za zhi = Zhonghua liuxingbingxue zazhi', 'JAMA', 'Wei sheng yan jiu = Journal of hygiene research', 'Medicine', 'Communicable diseases intelligence (2018)', 'Communicable diseases intelligence (2018)', 'Biomedical and environmental sciences : BES']\n",
      "3164\n"
     ]
    }
   ],
   "source": [
    "print(pub_jrnl[:10]);print(len(set(pub_jrnl)))"
   ]
  },
  {
   "cell_type": "code",
   "execution_count": 51,
   "metadata": {},
   "outputs": [
    {
     "name": "stdout",
     "output_type": "stream",
     "text": [
      "['Mikrobiyol Bul. 2019 Oct;53(4):374-387. doi: 10.5578/mb.68681. Turkish.', 'Pan Afr Med J. 2019 Jul 16;33:208. doi: 10.11604/pamj.2019.33.208.18766. eCollection 2019.', 'Zhonghua Liu Xing Bing Xue Za Zhi. 2019 Oct 10;40(10):1186-1190. doi: 10.3760/cma.j.issn.0254-6450.2019.10.003. Chinese.', 'Zhonghua Liu Xing Bing Xue Za Zhi. 2019 Oct 10;40(10):1173-1179. doi: 10.3760/cma.j.issn.0254-6450.2019.10.001. Review. Chinese.', 'JAMA. 2019 Oct 22;322(16):1580-1588. doi: 10.1001/jama.2019.15040.', 'Wei Sheng Yan Jiu. 2019 Jul;48(4):545-559. Chinese.', 'Medicine (Baltimore). 2019 Oct;98(40):e17269. doi: 10.1097/MD.0000000000017269.', 'Commun Dis Intell (2018). 2019 Sep 16;43. doi: 10.33321/cdi.2019.43.43.', 'Commun Dis Intell (2018). 2019 Sep 16;43. doi: 10.33321/cdi.2019.43.42.', 'Biomed Environ Sci. 2019 Aug;32(8):633-638. doi: 10.3967/bes2019.082. No abstract available.']\n",
      "26332\n"
     ]
    }
   ],
   "source": [
    "print(pub_dates[:10]);print(len(set(pub_dates)))"
   ]
  },
  {
   "cell_type": "code",
   "execution_count": 40,
   "metadata": {},
   "outputs": [
    {
     "name": "stdout",
     "output_type": "stream",
     "text": [
      "26332\n"
     ]
    }
   ],
   "source": [
    "print(len((authors)))"
   ]
  },
  {
   "cell_type": "code",
   "execution_count": 37,
   "metadata": {},
   "outputs": [],
   "source": [
    "article_list = driver.find_element_by_xpath('//*[@id=\"maincontent\"]/div/div[5]').\\\n",
    "find_elements_by_xpath('//*[@class=\"rprt\"]')"
   ]
  },
  {
   "cell_type": "markdown",
   "metadata": {},
   "source": [
    "# Save to Dataframe"
   ]
  },
  {
   "cell_type": "code",
   "execution_count": 74,
   "metadata": {},
   "outputs": [],
   "source": [
    "epidemiology_summary = pd.DataFrame({'title': titles,\n",
    "                                  'authors': authors,\n",
    "                                  'journal': pub_jrnl,\n",
    "                                'pub_date': pub_dates,\n",
    "                                  'link': links_c})"
   ]
  },
  {
   "cell_type": "code",
   "execution_count": 75,
   "metadata": {},
   "outputs": [],
   "source": [
    "epidemiology_summary = epidemiology_summary.drop_duplicates()"
   ]
  },
  {
   "cell_type": "code",
   "execution_count": 76,
   "metadata": {},
   "outputs": [
    {
     "data": {
      "text/html": [
       "<div>\n",
       "<style scoped>\n",
       "    .dataframe tbody tr th:only-of-type {\n",
       "        vertical-align: middle;\n",
       "    }\n",
       "\n",
       "    .dataframe tbody tr th {\n",
       "        vertical-align: top;\n",
       "    }\n",
       "\n",
       "    .dataframe thead th {\n",
       "        text-align: right;\n",
       "    }\n",
       "</style>\n",
       "<table border=\"1\" class=\"dataframe\">\n",
       "  <thead>\n",
       "    <tr style=\"text-align: right;\">\n",
       "      <th></th>\n",
       "      <th>title</th>\n",
       "      <th>authors</th>\n",
       "      <th>journal</th>\n",
       "      <th>pub_date</th>\n",
       "      <th>link</th>\n",
       "    </tr>\n",
       "  </thead>\n",
       "  <tbody>\n",
       "    <tr>\n",
       "      <th>26327</th>\n",
       "      <td>Hookworm disease in Texas.</td>\n",
       "      <td>SCOTT JA.</td>\n",
       "      <td>Texas reports on biology and medicine</td>\n",
       "      <td>Tex Rep Biol Med. 1945;3(4):558-68. No abstrac...</td>\n",
       "      <td>https://www.ncbi.nlm.nih.gov/pubmed/21010492</td>\n",
       "    </tr>\n",
       "    <tr>\n",
       "      <th>26328</th>\n",
       "      <td>[Work of the institutes of epidemiology and mi...</td>\n",
       "      <td>ROGOZIN II.</td>\n",
       "      <td>Zhurnal mikrobiologii, epidemiologii, i immuno...</td>\n",
       "      <td>Zh Mikrobiol Epidemiol Immunobiol. 1945;(3):77...</td>\n",
       "      <td>https://www.ncbi.nlm.nih.gov/pubmed/20984495</td>\n",
       "    </tr>\n",
       "    <tr>\n",
       "      <th>26329</th>\n",
       "      <td>Comparative geographical pathology of Venezuela.</td>\n",
       "      <td>JAFFE R.</td>\n",
       "      <td>Proceedings of the Rudolf Virchow Medical Soci...</td>\n",
       "      <td>Proc Rudolf Virchow Med Soc City N Y. 1945;4:1...</td>\n",
       "      <td>https://www.ncbi.nlm.nih.gov/pubmed/20293207</td>\n",
       "    </tr>\n",
       "    <tr>\n",
       "      <th>26330</th>\n",
       "      <td>[Sanitary epidemiological service of masses in...</td>\n",
       "      <td>MARZEEV AN.</td>\n",
       "      <td>Gigiena i sanitariia</td>\n",
       "      <td>Gig Sanit. 1945;10(6):37-40. Undetermined Lang...</td>\n",
       "      <td>https://www.ncbi.nlm.nih.gov/pubmed/20281408</td>\n",
       "    </tr>\n",
       "    <tr>\n",
       "      <th>26331</th>\n",
       "      <td>[Review of articles received on antiepidemic m...</td>\n",
       "      <td>MATZ EI.</td>\n",
       "      <td>Gigiena i sanitariia</td>\n",
       "      <td>Gig Sanit. 1945;10(4-5):30-5. Undetermined Lan...</td>\n",
       "      <td>https://www.ncbi.nlm.nih.gov/pubmed/20281393</td>\n",
       "    </tr>\n",
       "  </tbody>\n",
       "</table>\n",
       "</div>"
      ],
      "text/plain": [
       "                                                   title      authors  \\\n",
       "26327                         Hookworm disease in Texas.    SCOTT JA.   \n",
       "26328  [Work of the institutes of epidemiology and mi...  ROGOZIN II.   \n",
       "26329   Comparative geographical pathology of Venezuela.     JAFFE R.   \n",
       "26330  [Sanitary epidemiological service of masses in...  MARZEEV AN.   \n",
       "26331  [Review of articles received on antiepidemic m...     MATZ EI.   \n",
       "\n",
       "                                                 journal  \\\n",
       "26327              Texas reports on biology and medicine   \n",
       "26328  Zhurnal mikrobiologii, epidemiologii, i immuno...   \n",
       "26329  Proceedings of the Rudolf Virchow Medical Soci...   \n",
       "26330                               Gigiena i sanitariia   \n",
       "26331                               Gigiena i sanitariia   \n",
       "\n",
       "                                                pub_date  \\\n",
       "26327  Tex Rep Biol Med. 1945;3(4):558-68. No abstrac...   \n",
       "26328  Zh Mikrobiol Epidemiol Immunobiol. 1945;(3):77...   \n",
       "26329  Proc Rudolf Virchow Med Soc City N Y. 1945;4:1...   \n",
       "26330  Gig Sanit. 1945;10(6):37-40. Undetermined Lang...   \n",
       "26331  Gig Sanit. 1945;10(4-5):30-5. Undetermined Lan...   \n",
       "\n",
       "                                               link  \n",
       "26327  https://www.ncbi.nlm.nih.gov/pubmed/21010492  \n",
       "26328  https://www.ncbi.nlm.nih.gov/pubmed/20984495  \n",
       "26329  https://www.ncbi.nlm.nih.gov/pubmed/20293207  \n",
       "26330  https://www.ncbi.nlm.nih.gov/pubmed/20281408  \n",
       "26331  https://www.ncbi.nlm.nih.gov/pubmed/20281393  "
      ]
     },
     "execution_count": 76,
     "metadata": {},
     "output_type": "execute_result"
    }
   ],
   "source": [
    "epidemiology_summary.tail()"
   ]
  },
  {
   "cell_type": "code",
   "execution_count": 77,
   "metadata": {},
   "outputs": [
    {
     "data": {
      "text/plain": [
       "(26192, 5)"
      ]
     },
     "execution_count": 77,
     "metadata": {},
     "output_type": "execute_result"
    }
   ],
   "source": [
    "epidemiology_summary.shape"
   ]
  },
  {
   "cell_type": "code",
   "execution_count": 78,
   "metadata": {},
   "outputs": [],
   "source": [
    "epidemiology_summary.to_csv('epidemiology_summary.csv', index=False)"
   ]
  },
  {
   "cell_type": "markdown",
   "metadata": {},
   "source": [
    "10020 --> 9900 (pg:495)"
   ]
  },
  {
   "cell_type": "markdown",
   "metadata": {},
   "source": [
    "# Abstract and Grants and Mesh"
   ]
  },
  {
   "cell_type": "code",
   "execution_count": 36,
   "metadata": {
    "scrolled": true
   },
   "outputs": [
    {
     "name": "stdout",
     "output_type": "stream",
     "text": [
      "2\n"
     ]
    },
    {
     "data": {
      "text/plain": [
       "0    https://www.ncbi.nlm.nih.gov/pubmed/18074468\n",
       "1    https://www.ncbi.nlm.nih.gov/pubmed/14762987\n",
       "Name: x, dtype: object"
      ]
     },
     "execution_count": 36,
     "metadata": {},
     "output_type": "execute_result"
    }
   ],
   "source": [
    "dt_r = pd.read_csv('tmp.csv')\n",
    "d_links = dt_r['x']\n",
    "print(len(d_links))\n",
    "d_links[:10]"
   ]
  },
  {
   "cell_type": "code",
   "execution_count": 37,
   "metadata": {},
   "outputs": [],
   "source": [
    "title = []\n",
    "abstracts = []\n",
    "grants = []\n",
    "mesh_term = []\n",
    "pgs = [] \n",
    "ls_auth = []\n",
    "ls_institute = []\n",
    "keywords = []\n",
    "pmid = []"
   ]
  },
  {
   "cell_type": "code",
   "execution_count": 38,
   "metadata": {},
   "outputs": [],
   "source": [
    "nb = 0"
   ]
  },
  {
   "cell_type": "code",
   "execution_count": 39,
   "metadata": {},
   "outputs": [],
   "source": [
    "driver = webdriver.Chrome()"
   ]
  },
  {
   "cell_type": "code",
   "execution_count": 40,
   "metadata": {},
   "outputs": [
    {
     "name": "stdout",
     "output_type": "stream",
     "text": [
      "0\n",
      "1\n"
     ]
    }
   ],
   "source": [
    "for page in d_links:\n",
    "    print(nb)\n",
    "    \n",
    "    if nb == 0:\n",
    "        pass\n",
    "    else:\n",
    "        if nb%1000 == 0:\n",
    "            time.sleep(60)\n",
    "        else:\n",
    "            time.sleep(random.randint(0,5))\n",
    "    \n",
    "    nb += 1\n",
    "    driver.get(page)\n",
    "    \n",
    "    pgs.append(page)\n",
    "    \n",
    "    try: \n",
    "        title.append(driver.find_element_by_xpath('//*[@id=\"maincontent\"]/div/div[5]/div/h1').get_attribute(\"innerText\"))\n",
    "    except:\n",
    "        title.append(None)\n",
    "    \n",
    "    try:\n",
    "        a_content = driver.find_element_by_class_name('abstr')\n",
    "        abstracts.append(a_content.text)\n",
    "    except:\n",
    "        abstracts.append(None)\n",
    "    \n",
    "    gnt = []\n",
    "    try:\n",
    "        g_content = driver.find_element_by_xpath('//*[@title=\"Supplemental information\"]').\\\n",
    "        find_element_by_xpath('..').find_element_by_xpath('..').\\\n",
    "        find_elements_by_xpath('//*[@alsec=\"grnt\"]')\n",
    "        for g in g_content:\n",
    "            gnt.append(g.get_attribute(\"innerText\"))\n",
    "        grants.append(gnt)\n",
    "    except:\n",
    "        grants.append(None)\n",
    "\n",
    "    txt = []\n",
    "    pos = []\n",
    "    try:\n",
    "        tmp = driver.find_element_by_xpath('//*[@title=\"Supplemental information\"]').text\n",
    "        tmp = tmp.split(', ')\n",
    "        pos = tmp.index(\"MeSH terms\") + 1\n",
    "        terms = driver.find_element_by_class_name('other_content').\\\n",
    "        find_element_by_xpath('//h4[contains(text(), \"MeSH\")]/..').\\\n",
    "        find_element_by_xpath('ul[pos]'.replace('pos',str(pos))).\\\n",
    "        find_elements_by_tag_name('li')\n",
    "        for t in terms:\n",
    "            txt.append(t.get_attribute(\"innerText\"))\n",
    "        mesh_term.append(txt)\n",
    "    except:\n",
    "        mesh_term.append(None)\n",
    "        \n",
    "    auth = []\n",
    "    ftn = []\n",
    "    try:\n",
    "        authors = driver.find_element_by_class_name('auths').find_elements_by_xpath('.//a')\n",
    "        footnotes = driver.find_element_by_class_name('auths').find_elements_by_xpath('.//sup')\n",
    "        for author in authors:\n",
    "            auth.append(author.text)\n",
    "        for ft in footnotes:\n",
    "            ftn.append(ft.text)\n",
    "        if len(auth) != len(ftn): #in case there is author without institute info\n",
    "            ftn.extend('0'*(len(auth)-len(ftn)))\n",
    "        dic_auth = dict(zip(auth, ftn))\n",
    "        ls_auth.append(dic_auth)\n",
    "    except:\n",
    "        ls_auth.append(None)\n",
    "    \n",
    "    idx = []\n",
    "    ist = []\n",
    "    try:\n",
    "        indexes = driver.find_element_by_class_name('afflist').\\\n",
    "        find_elements_by_xpath('.//div/dl/dt')\n",
    "        institutes = driver.find_element_by_class_name('afflist').\\\n",
    "        find_elements_by_xpath('.//div/dl/dd')\n",
    "        for index in indexes:\n",
    "            idx.append(index.get_attribute(\"innerText\"))\n",
    "        for institute in institutes:\n",
    "            ist.append(institute.get_attribute(\"innerText\"))\n",
    "        dic_ist = dict(zip(idx,ist))\n",
    "        ls_institute.append(dic_ist)\n",
    "    except:\n",
    "        ls_institute.append(None)\n",
    "    \n",
    "    try:\n",
    "        keywords.append(driver.find_element_by_class_name('keywords').find_element_by_xpath('.//p').text)\n",
    "    except:\n",
    "        keywords.append(None)\n",
    "        \n",
    "    try:\n",
    "        pmid.append(driver.find_element_by_class_name('rprtid').find_element_by_xpath('.//dd').text)\n",
    "    except:\n",
    "        pmid.append(None)"
   ]
  },
  {
   "cell_type": "code",
   "execution_count": 41,
   "metadata": {},
   "outputs": [
    {
     "data": {
      "text/plain": [
       "2"
      ]
     },
     "execution_count": 41,
     "metadata": {},
     "output_type": "execute_result"
    }
   ],
   "source": [
    "len(mesh_term)"
   ]
  },
  {
   "cell_type": "code",
   "execution_count": 42,
   "metadata": {},
   "outputs": [],
   "source": [
    "epidemiology_mesh = pd.DataFrame({'pmid': pmid,\n",
    "                                  'title':title,\n",
    "                                  'abstract': abstracts,\n",
    "                                  'keywords': keywords,\n",
    "                                  'author':ls_auth,\n",
    "                                  'institute':ls_institute,\n",
    "                                  'grants': grants,\n",
    "                                  'mesh': mesh_term,\n",
    "                                  'link':pgs })"
   ]
  },
  {
   "cell_type": "code",
   "execution_count": 43,
   "metadata": {},
   "outputs": [
    {
     "data": {
      "text/plain": [
       "(2, 9)"
      ]
     },
     "execution_count": 43,
     "metadata": {},
     "output_type": "execute_result"
    }
   ],
   "source": [
    "epidemiology_mesh.shape"
   ]
  },
  {
   "cell_type": "code",
   "execution_count": 44,
   "metadata": {},
   "outputs": [
    {
     "data": {
      "text/html": [
       "<div>\n",
       "<style scoped>\n",
       "    .dataframe tbody tr th:only-of-type {\n",
       "        vertical-align: middle;\n",
       "    }\n",
       "\n",
       "    .dataframe tbody tr th {\n",
       "        vertical-align: top;\n",
       "    }\n",
       "\n",
       "    .dataframe thead th {\n",
       "        text-align: right;\n",
       "    }\n",
       "</style>\n",
       "<table border=\"1\" class=\"dataframe\">\n",
       "  <thead>\n",
       "    <tr style=\"text-align: right;\">\n",
       "      <th></th>\n",
       "      <th>pmid</th>\n",
       "      <th>title</th>\n",
       "      <th>abstract</th>\n",
       "      <th>keywords</th>\n",
       "      <th>author</th>\n",
       "      <th>institute</th>\n",
       "      <th>grants</th>\n",
       "      <th>mesh</th>\n",
       "      <th>link</th>\n",
       "    </tr>\n",
       "  </thead>\n",
       "  <tbody>\n",
       "    <tr>\n",
       "      <th>0</th>\n",
       "      <td>18074468</td>\n",
       "      <td>[Abstracts of the 3rd Pharmacoepidemiology Sem...</td>\n",
       "      <td>None</td>\n",
       "      <td>None</td>\n",
       "      <td>{}</td>\n",
       "      <td>None</td>\n",
       "      <td>[]</td>\n",
       "      <td>None</td>\n",
       "      <td>https://www.ncbi.nlm.nih.gov/pubmed/18074468</td>\n",
       "    </tr>\n",
       "    <tr>\n",
       "      <th>1</th>\n",
       "      <td>14762987</td>\n",
       "      <td>Pharmacoepidemiology and drug safety.</td>\n",
       "      <td>None</td>\n",
       "      <td>None</td>\n",
       "      <td>{}</td>\n",
       "      <td>None</td>\n",
       "      <td>[]</td>\n",
       "      <td>None</td>\n",
       "      <td>https://www.ncbi.nlm.nih.gov/pubmed/14762987</td>\n",
       "    </tr>\n",
       "  </tbody>\n",
       "</table>\n",
       "</div>"
      ],
      "text/plain": [
       "       pmid                                              title abstract  \\\n",
       "0  18074468  [Abstracts of the 3rd Pharmacoepidemiology Sem...     None   \n",
       "1  14762987              Pharmacoepidemiology and drug safety.     None   \n",
       "\n",
       "  keywords author institute grants  mesh  \\\n",
       "0     None     {}      None     []  None   \n",
       "1     None     {}      None     []  None   \n",
       "\n",
       "                                           link  \n",
       "0  https://www.ncbi.nlm.nih.gov/pubmed/18074468  \n",
       "1  https://www.ncbi.nlm.nih.gov/pubmed/14762987  "
      ]
     },
     "execution_count": 44,
     "metadata": {},
     "output_type": "execute_result"
    }
   ],
   "source": [
    "epidemiology_mesh.tail()"
   ]
  },
  {
   "cell_type": "code",
   "execution_count": 23,
   "metadata": {},
   "outputs": [
    {
     "data": {
      "text/plain": [
       "\"Abstract\\nToroviruses (family Coronaviridae, order Nidovirales) are enveloped, positive-stranded RNA viruses that have been implicated in enteric disease in cattle and possibly in humans. Despite their potential veterinary and clinical relevance, little is known about torovirus epidemiology and molecular genetics. Here, we present the first study into the diversity among toroviruses currently present in European swine and cattle herds. Comparative sequence analysis was performed focusing on the genes for the structural proteins S, M, HE, and N, with fecal specimens serving as sources of viral RNA. Sequence data published for animal and human torovirus variants were included. Four genotypes, displaying 30 to 40% divergence, were readily distinguished, exemplified by bovine torovirus (BToV) Breda, porcine torovirus (PToV) Markelo, equine torovirus Berne, and the putative human torovirus. The ungulate toroviruses apparently display host species preference. In phylogenetic analyses, all PToV variants clustered, while the recent European BToVs mostly resembled the New World BToV variant Breda, identified 19 years ago. However, we found ample evidence for recurring intertypic recombination. All newly characterized BToV variants seem to have arisen from a genetic exchange, during which the 3' end of the HE gene, the N gene, and the 3' nontranslated region of a Breda virus-like parent had been swapped for those of PToV. Moreover, some PToV and BToV variants carried chimeric HE genes, which apparently resulted from recombination events involving hitherto unknown toroviruses. From these observations, the existence of two additional torovirus genotypes can be inferred. Toroviruses may be even more promiscuous than their closest relatives, the coronaviruses and arteriviruses.\""
      ]
     },
     "execution_count": 23,
     "metadata": {},
     "output_type": "execute_result"
    }
   ],
   "source": [
    "epidemiology_mesh['abstract'][67]"
   ]
  },
  {
   "cell_type": "code",
   "execution_count": 45,
   "metadata": {},
   "outputs": [],
   "source": [
    "epidemiology_mesh.to_csv('tmp.csv', index=False)"
   ]
  },
  {
   "cell_type": "markdown",
   "metadata": {},
   "source": [
    "# Close your driver"
   ]
  },
  {
   "cell_type": "code",
   "execution_count": 46,
   "metadata": {},
   "outputs": [],
   "source": [
    "driver.close()"
   ]
  },
  {
   "cell_type": "code",
   "execution_count": null,
   "metadata": {},
   "outputs": [],
   "source": []
  }
 ],
 "metadata": {
  "kernelspec": {
   "display_name": "Python 3",
   "language": "python",
   "name": "python3"
  },
  "language_info": {
   "codemirror_mode": {
    "name": "ipython",
    "version": 3
   },
   "file_extension": ".py",
   "mimetype": "text/x-python",
   "name": "python",
   "nbconvert_exporter": "python",
   "pygments_lexer": "ipython3",
   "version": "3.7.1"
  }
 },
 "nbformat": 4,
 "nbformat_minor": 2
}
